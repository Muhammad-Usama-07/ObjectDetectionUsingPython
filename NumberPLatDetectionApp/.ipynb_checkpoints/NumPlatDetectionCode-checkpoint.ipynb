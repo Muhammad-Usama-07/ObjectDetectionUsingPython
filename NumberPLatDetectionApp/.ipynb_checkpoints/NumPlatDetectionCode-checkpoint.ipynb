{
 "cells": [
  {
   "cell_type": "markdown",
   "id": "0aaf6d83",
   "metadata": {},
   "source": [
    "# 1. Installing Dependencies"
   ]
  },
  {
   "cell_type": "code",
   "execution_count": 1,
   "id": "78865bce",
   "metadata": {
    "scrolled": true
   },
   "outputs": [
    {
     "name": "stdout",
     "output_type": "stream",
     "text": [
      "Collecting easyocr\n",
      "  Downloading easyocr-1.4-py3-none-any.whl (63.6 MB)\n",
      "Requirement already satisfied: PyYAML in c:\\users\\rajee\\anaconda3\\lib\\site-packages (from easyocr) (5.4.1)\n",
      "Collecting python-bidi\n",
      "  Downloading python_bidi-0.4.2-py2.py3-none-any.whl (30 kB)\n",
      "Collecting torchvision>=0.5\n",
      "  Downloading torchvision-0.10.0-cp38-cp38-win_amd64.whl (920 kB)\n",
      "Requirement already satisfied: opencv-python in c:\\users\\rajee\\anaconda3\\lib\\site-packages (from easyocr) (4.5.3.56)\n",
      "Requirement already satisfied: scikit-image in c:\\users\\rajee\\anaconda3\\lib\\site-packages (from easyocr) (0.18.1)\n",
      "Requirement already satisfied: scipy in c:\\users\\rajee\\anaconda3\\lib\\site-packages (from easyocr) (1.6.2)\n",
      "Requirement already satisfied: numpy in c:\\users\\rajee\\anaconda3\\lib\\site-packages (from easyocr) (1.20.1)\n",
      "Collecting torch\n",
      "  Downloading torch-1.9.0-cp38-cp38-win_amd64.whl (222.0 MB)\n",
      "Requirement already satisfied: Pillow in c:\\users\\rajee\\anaconda3\\lib\\site-packages (from easyocr) (8.2.0)\n",
      "Requirement already satisfied: typing-extensions in c:\\users\\rajee\\anaconda3\\lib\\site-packages (from torch->easyocr) (3.7.4.3)\n",
      "Requirement already satisfied: six in c:\\users\\rajee\\anaconda3\\lib\\site-packages (from python-bidi->easyocr) (1.15.0)\n",
      "Requirement already satisfied: matplotlib!=3.0.0,>=2.0.0 in c:\\users\\rajee\\anaconda3\\lib\\site-packages (from scikit-image->easyocr) (3.3.4)\n",
      "Requirement already satisfied: networkx>=2.0 in c:\\users\\rajee\\anaconda3\\lib\\site-packages (from scikit-image->easyocr) (2.5)\n",
      "Requirement already satisfied: imageio>=2.3.0 in c:\\users\\rajee\\anaconda3\\lib\\site-packages (from scikit-image->easyocr) (2.9.0)\n",
      "Requirement already satisfied: tifffile>=2019.7.26 in c:\\users\\rajee\\anaconda3\\lib\\site-packages (from scikit-image->easyocr) (2021.4.8)\n",
      "Requirement already satisfied: PyWavelets>=1.1.1 in c:\\users\\rajee\\anaconda3\\lib\\site-packages (from scikit-image->easyocr) (1.1.1)\n",
      "Requirement already satisfied: cycler>=0.10 in c:\\users\\rajee\\anaconda3\\lib\\site-packages (from matplotlib!=3.0.0,>=2.0.0->scikit-image->easyocr) (0.10.0)\n",
      "Requirement already satisfied: python-dateutil>=2.1 in c:\\users\\rajee\\anaconda3\\lib\\site-packages (from matplotlib!=3.0.0,>=2.0.0->scikit-image->easyocr) (2.8.1)\n",
      "Requirement already satisfied: kiwisolver>=1.0.1 in c:\\users\\rajee\\anaconda3\\lib\\site-packages (from matplotlib!=3.0.0,>=2.0.0->scikit-image->easyocr) (1.3.1)\n",
      "Requirement already satisfied: pyparsing!=2.0.4,!=2.1.2,!=2.1.6,>=2.0.3 in c:\\users\\rajee\\anaconda3\\lib\\site-packages (from matplotlib!=3.0.0,>=2.0.0->scikit-image->easyocr) (2.4.7)\n",
      "Requirement already satisfied: decorator>=4.3.0 in c:\\users\\rajee\\anaconda3\\lib\\site-packages (from networkx>=2.0->scikit-image->easyocr) (5.0.6)\n",
      "Installing collected packages: torch, torchvision, python-bidi, easyocr\n",
      "Successfully installed easyocr-1.4 python-bidi-0.4.2 torch-1.9.0 torchvision-0.10.0\n",
      "Collecting imutils\n",
      "  Downloading imutils-0.5.4.tar.gz (17 kB)\n",
      "Building wheels for collected packages: imutils\n",
      "  Building wheel for imutils (setup.py): started\n",
      "  Building wheel for imutils (setup.py): finished with status 'done'\n",
      "  Created wheel for imutils: filename=imutils-0.5.4-py3-none-any.whl size=25860 sha256=01bd96bdd8e9d0040659c8dd7b14de261da48ef70c531d7e26f56225424f73c7\n",
      "  Stored in directory: c:\\users\\rajee\\appdata\\local\\pip\\cache\\wheels\\59\\1b\\52\\0dea905f8278d5514dc4d0be5e251967f8681670cadd3dca89\n",
      "Successfully built imutils\n",
      "Installing collected packages: imutils\n",
      "Successfully installed imutils-0.5.4\n"
     ]
    }
   ],
   "source": [
    "!pip install easyocr\n",
    "!pip install imutils"
   ]
  },
  {
   "cell_type": "markdown",
   "id": "601c2d9d",
   "metadata": {},
   "source": [
    "# Using Necessary Libraries"
   ]
  },
  {
   "cell_type": "code",
   "execution_count": 2,
   "id": "4e693e68",
   "metadata": {},
   "outputs": [],
   "source": [
    "import cv2\n",
    "from matplotlib import pyplot as plt\n",
    "import numpy as np\n",
    "import imutils\n",
    "import pytesseract"
   ]
  },
  {
   "cell_type": "code",
   "execution_count": null,
   "id": "b28e4002",
   "metadata": {},
   "outputs": [],
   "source": []
  }
 ],
 "metadata": {
  "kernelspec": {
   "display_name": "Python 3",
   "language": "python",
   "name": "python3"
  },
  "language_info": {
   "codemirror_mode": {
    "name": "ipython",
    "version": 3
   },
   "file_extension": ".py",
   "mimetype": "text/x-python",
   "name": "python",
   "nbconvert_exporter": "python",
   "pygments_lexer": "ipython3",
   "version": "3.8.8"
  }
 },
 "nbformat": 4,
 "nbformat_minor": 5
}
